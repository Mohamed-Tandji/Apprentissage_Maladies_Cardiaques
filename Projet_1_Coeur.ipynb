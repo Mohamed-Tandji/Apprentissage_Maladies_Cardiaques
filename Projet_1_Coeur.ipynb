{
 "cells": [
  {
   "cell_type": "markdown",
   "id": "520ee894",
   "metadata": {},
   "source": [
    "# Cas d'etude sur cas cardiaques\n"
   ]
  },
  {
   "cell_type": "code",
   "execution_count": 4,
   "id": "4017ae6f",
   "metadata": {},
   "outputs": [
    {
     "name": "stdout",
     "output_type": "stream",
     "text": [
      "Dataset loaded!\n"
     ]
    }
   ],
   "source": [
    "import warnings\n",
    "warnings.filterwarnings('ignore')\n",
    "\n",
    "# Import train test split module\n",
    "from sklearn.model_selection import train_test_split\n",
    "\n",
    "# Import Non-linear Algorithms\n",
    "from sklearn.tree import DecisionTreeClassifier\n",
    "\n",
    "from sklearn.metrics import confusion_matrix\n",
    "\n",
    "from pandas import read_csv\n",
    "import numpy as np\n",
    "import matplotlib.pyplot as plt\n",
    "from pandas.plotting import scatter_matrix\n",
    "filename='../datasets/heart.csv'\n",
    "try:\n",
    "    data=read_csv(filename)\n",
    "    print('Dataset loaded!')\n",
    "except:\n",
    "    print('Failed to load the dataset!')\n",
    "    \n",
    "        "
   ]
  },
  {
   "cell_type": "markdown",
   "id": "dc748846",
   "metadata": {},
   "source": [
    "## Creation Classification Model"
   ]
  },
  {
   "cell_type": "code",
   "execution_count": 10,
   "id": "5e3fa0ce",
   "metadata": {},
   "outputs": [
    {
     "name": "stdout",
     "output_type": "stream",
     "text": [
      "Confusion Matrix\n",
      "------------------\n",
      "[[321  39]\n",
      " [ 16 342]]\n",
      "Evaluation Metrics\n",
      "-------------------\n",
      "Accuracy: 92.34 %\n",
      "Precision: 95.53 %\n",
      "Racall: 89.76 %\n",
      "Specificity: 95.25 %\n",
      "F1-Score: 92.56 %\n"
     ]
    }
   ],
   "source": [
    "# Get dataframe values as 2D-array\n",
    "array = data.values\n",
    "# Split Input (X) and output (Y)\n",
    "X = array[ : , 0 : -1] # Inputs\n",
    "Y = array[ : , -1] # Output\n",
    "# Define test size\n",
    "test_proportion = 0.7\n",
    "# Define seed to garantee the same instances for each execution\n",
    "seed = 7\n",
    "# Split data into train & test\n",
    "X_train, X_test, Y_train, Y_test = train_test_split(X, Y, test_size=test_proportion, random_state=seed)\n",
    "# Training the model\n",
    "\n",
    "model=DecisionTreeClassifier()\n",
    "\n",
    "model.fit(X_train, Y_train) # Train model (apprentissage)\n",
    "# Evaluation\n",
    "result = model.score(X_test, Y_test)\n",
    "\n",
    "# Get prediction\n",
    "prediction = model.predict(X_test)\n",
    "matrix = confusion_matrix(Y_test, prediction)\n",
    "print(f'Confusion Matrix\\n------------------\\n{matrix}')\n",
    "\n",
    "def metrics(matrix):\n",
    "    TN, FN, FP, TP = matrix.ravel()\n",
    "    acc = (TN + TP)/ (TP + TN + FP + FN)\n",
    "    prec = TP / (TP + FP)\n",
    "    rec = TP / (TP + FN)\n",
    "    spec = TN / (TN + FP)\n",
    "    f1 = 2 * ((prec * rec) / (prec + rec))\n",
    "    return acc, prec, rec, spec, f1\n",
    "print(f'Evaluation Metrics\\n-------------------')\n",
    "acc, prec, rec, spec, f1 = metrics(matrix)\n",
    "print(f'Accuracy: {(acc*100).round(2)} %')\n",
    "print(f'Precision: {(prec*100).round(2)} %')\n",
    "print(f'Racall: {(rec*100).round(2)} %')\n",
    "print(f'Specificity: {(spec*100).round(2)} %')\n",
    "print(f'F1-Score: {(f1*100).round(2)} %')\n"
   ]
  },
  {
   "cell_type": "code",
   "execution_count": 11,
   "id": "7cb2776e",
   "metadata": {},
   "outputs": [
    {
     "name": "stdout",
     "output_type": "stream",
     "text": [
      "Model Saved !!!\n"
     ]
    }
   ],
   "source": [
    "import pickle\n",
    "\n",
    "model_name='classification_model.pickle'\n",
    "pickle.dump(model, open(model_name, 'wb'))\n",
    "print(f'Model Saved !!!')\n"
   ]
  },
  {
   "cell_type": "markdown",
   "id": "e51542be",
   "metadata": {},
   "source": [
    "## Analyse Exploratoire de Donnee"
   ]
  },
  {
   "cell_type": "code",
   "execution_count": 63,
   "id": "023ce211",
   "metadata": {},
   "outputs": [
    {
     "name": "stdout",
     "output_type": "stream",
     "text": [
      "Head\n",
      "--------\n",
      "   age  sex  cp  trestbps  chol  fbs  restecg  thalach  exang  oldpeak  slope  ca  thal  target\n",
      "0   52    1   0       125   212    0        1      168      0      1.0      2   2     3       0\n",
      "1   53    1   0       140   203    1        0      155      1      3.1      0   0     3       0\n",
      "2   70    1   0       145   174    0        1      125      1      2.6      0   0     3       0\n",
      "3   61    1   0       148   203    0        1      161      0      0.0      2   1     3       0\n",
      "4   62    0   0       138   294    1        1      106      0      1.9      1   3     2       0\n",
      "Tail\n",
      "--------\n",
      "      age  sex  cp  trestbps  chol  fbs  restecg  thalach  exang  oldpeak  slope  ca  thal  target\n",
      "1020   59    1   1       140   221    0        1      164      1      0.0      2   0     2       1\n",
      "1021   60    1   0       125   258    0        0      141      1      2.8      1   1     3       0\n",
      "1022   47    1   0       110   275    0        0      118      1      1.0      1   1     2       0\n",
      "1023   50    0   0       110   254    0        0      159      0      0.0      2   0     2       1\n",
      "1024   54    1   0       120   188    0        1      113      0      1.4      1   1     3       0\n",
      "Shape\n",
      "--------\n",
      "(1025, 14)\n",
      "Dasaset info\n",
      "--------\n",
      "<class 'pandas.core.frame.DataFrame'>\n",
      "RangeIndex: 1025 entries, 0 to 1024\n",
      "Data columns (total 14 columns):\n",
      " #   Column    Non-Null Count  Dtype  \n",
      "---  ------    --------------  -----  \n",
      " 0   age       1025 non-null   int64  \n",
      " 1   sex       1025 non-null   int64  \n",
      " 2   cp        1025 non-null   int64  \n",
      " 3   trestbps  1025 non-null   int64  \n",
      " 4   chol      1025 non-null   int64  \n",
      " 5   fbs       1025 non-null   int64  \n",
      " 6   restecg   1025 non-null   int64  \n",
      " 7   thalach   1025 non-null   int64  \n",
      " 8   exang     1025 non-null   int64  \n",
      " 9   oldpeak   1025 non-null   float64\n",
      " 10  slope     1025 non-null   int64  \n",
      " 11  ca        1025 non-null   int64  \n",
      " 12  thal      1025 non-null   int64  \n",
      " 13  target    1025 non-null   int64  \n",
      "dtypes: float64(1), int64(13)\n",
      "memory usage: 112.2 KB\n",
      "None\n"
     ]
    }
   ],
   "source": [
    "# Peak at Data\n",
    "set_option('display.width',150)\n",
    "\n",
    "print(f'Head\\n--------\\n{data.head()}')\n",
    "print(f'Tail\\n--------\\n{data.tail()}')\n",
    "print(f'Shape\\n--------\\n{data.shape}')\n",
    "print(f'Dasaset info\\n--------')\n",
    "print(f'{data.info()}')\n"
   ]
  },
  {
   "cell_type": "code",
   "execution_count": 62,
   "id": "9bb0f693",
   "metadata": {},
   "outputs": [
    {
     "name": "stdout",
     "output_type": "stream",
     "text": [
      "Head\n",
      "-------\n",
      "   age  sex  cp  trestbps  chol  fbs  restecg  thalach  exang  oldpeak  slope  ca  thal  target\n",
      "0   52    1   0       125   212    0        1      168      0      1.0      2   2     3       0\n",
      "1   53    1   0       140   203    1        0      155      1      3.1      0   0     3       0\n",
      "2   70    1   0       145   174    0        1      125      1      2.6      0   0     3       0\n",
      "3   61    1   0       148   203    0        1      161      0      0.0      2   1     3       0\n",
      "4   62    0   0       138   294    1        1      106      0      1.9      1   3     2       0\n"
     ]
    }
   ],
   "source": [
    "set_option('display.width',150)\n",
    "\n",
    "print (f'Head\\n-------\\n{data.head()}')"
   ]
  },
  {
   "cell_type": "code",
   "execution_count": 44,
   "id": "6c95763f",
   "metadata": {
    "scrolled": false
   },
   "outputs": [
    {
     "name": "stdout",
     "output_type": "stream",
     "text": [
      "Descriptive Statistics\n",
      "------------------------\n",
      "          age     sex      cp  trestbps    chol     fbs  restecg  thalach   exang  oldpeak   slope      ca    thal  target\n",
      "count  1025.0  1025.0  1025.0    1025.0  1025.0  1025.0   1025.0   1025.0  1025.0   1025.0  1025.0  1025.0  1025.0  1025.0\n",
      "mean     54.4     0.7     0.9     131.6   246.0     0.1      0.5    149.1     0.3      1.1     1.4     0.8     2.3     0.5\n",
      "std       9.1     0.5     1.0      17.5    51.6     0.4      0.5     23.0     0.5      1.2     0.6     1.0     0.6     0.5\n",
      "min      29.0     0.0     0.0      94.0   126.0     0.0      0.0     71.0     0.0      0.0     0.0     0.0     0.0     0.0\n",
      "25%      48.0     0.0     0.0     120.0   211.0     0.0      0.0    132.0     0.0      0.0     1.0     0.0     2.0     0.0\n",
      "50%      56.0     1.0     1.0     130.0   240.0     0.0      1.0    152.0     0.0      0.8     1.0     0.0     2.0     1.0\n",
      "75%      61.0     1.0     2.0     140.0   275.0     0.0      1.0    166.0     1.0      1.8     2.0     1.0     3.0     1.0\n",
      "max      77.0     1.0     3.0     200.0   564.0     1.0      2.0    202.0     1.0      6.2     2.0     4.0     3.0     1.0\n",
      "Descriptive Statistics(include all)\n",
      "------------------------\n",
      "          age     sex      cp  trestbps    chol     fbs  restecg  thalach   exang  oldpeak   slope      ca    thal  target\n",
      "count  1025.0  1025.0  1025.0    1025.0  1025.0  1025.0   1025.0   1025.0  1025.0   1025.0  1025.0  1025.0  1025.0  1025.0\n",
      "mean     54.4     0.7     0.9     131.6   246.0     0.1      0.5    149.1     0.3      1.1     1.4     0.8     2.3     0.5\n",
      "std       9.1     0.5     1.0      17.5    51.6     0.4      0.5     23.0     0.5      1.2     0.6     1.0     0.6     0.5\n",
      "min      29.0     0.0     0.0      94.0   126.0     0.0      0.0     71.0     0.0      0.0     0.0     0.0     0.0     0.0\n",
      "25%      48.0     0.0     0.0     120.0   211.0     0.0      0.0    132.0     0.0      0.0     1.0     0.0     2.0     0.0\n",
      "50%      56.0     1.0     1.0     130.0   240.0     0.0      1.0    152.0     0.0      0.8     1.0     0.0     2.0     1.0\n",
      "75%      61.0     1.0     2.0     140.0   275.0     0.0      1.0    166.0     1.0      1.8     2.0     1.0     3.0     1.0\n",
      "max      77.0     1.0     3.0     200.0   564.0     1.0      2.0    202.0     1.0      6.2     2.0     4.0     3.0     1.0\n"
     ]
    }
   ],
   "source": [
    " from pandas import set_option\n",
    "set_option('display.width',150)\n",
    "set_option('display.precision',1)\n",
    "print(f'Descriptive Statistics\\n------------------------\\n{data.describe()}')\n",
    "print(f'Descriptive Statistics(include all)\\n------------------------\\n{data.describe(include=\"all\")}')"
   ]
  },
  {
   "cell_type": "markdown",
   "id": "27a86dc4",
   "metadata": {},
   "source": [
    "## -Question 1\n",
    "\n",
    "L'analyse de donnees nous a permis de savoir qu'il ya au total 1025 individus dont 312 Femmes avec un age minimum de 34 ans, maximum de 76 ans et une moyenne d'age de 55 ans, ainsi que 713 Hommes avec un age minimum de 29 ans, maximum de 77 ans et une moyenne d'age de 53 ans ce qui montre que les femmes sont plus agees et moins nombreuses que les hommes dans les donnees receuillis "
   ]
  },
  {
   "cell_type": "markdown",
   "id": "91f97bd6",
   "metadata": {},
   "source": [
    "## Distribution par Age\n"
   ]
  },
  {
   "cell_type": "code",
   "execution_count": 45,
   "id": "209a71af",
   "metadata": {},
   "outputs": [
    {
     "name": "stdout",
     "output_type": "stream",
     "text": [
      "\n",
      " La Distribution par age \n",
      "---------------------------------\n",
      "     sex   cp  trestbps   chol      fbs  restecg  thalach    exang  oldpeak  slope       ca  thal   target\n",
      "age                                                                                                       \n",
      "29   1.0  1.0     130.0  204.0  0.0e+00      0.0    202.0  0.0e+00      0.0    2.0  0.0e+00   2.0  1.0e+00\n",
      "34   0.5  2.0     118.0  196.0  0.0e+00      0.5    183.0  0.0e+00      0.3    2.0  0.0e+00   2.0  1.0e+00\n",
      "35   0.7  0.3     126.5  209.2  0.0e+00      0.8    160.8  4.7e-01      0.8    1.7  0.0e+00   2.5  5.3e-01\n",
      "37   0.5  2.0     125.0  232.5  0.0e+00      1.0    178.5  0.0e+00      1.8    1.0  0.0e+00   2.0  1.0e+00\n",
      "38   1.0  2.3     132.0  193.7  0.0e+00      1.0    176.0  3.3e-01      1.3    1.7  2.7e+00   2.3  6.7e-01\n",
      "39   0.5  1.4     123.3  236.9  0.0e+00      0.8    160.8  0.0e+00      0.3    1.4  0.0e+00   2.3  7.1e-01\n",
      "40   1.0  0.8     133.5  196.1  0.0e+00      0.6    155.8  6.4e-01      1.1    1.6  0.0e+00   3.0  2.7e-01\n",
      "41   0.6  1.2     119.5  218.2  0.0e+00      0.6    164.2  9.4e-02      0.3    1.8  9.4e-02   2.0  9.1e-01\n",
      "42   0.8  1.2     127.5  246.8  1.2e-01      0.8    158.5  1.5e-01      0.5    1.4  2.3e-01   2.0  8.5e-01\n",
      "43   0.7  0.5     126.3  256.9  2.7e-01      0.6    152.8  4.2e-01      1.4    1.3  5.8e-01   2.5  5.8e-01\n",
      "44   0.8  1.2     120.7  220.0  0.0e+00      0.7    168.2  1.9e-01      0.4    1.6  2.5e-01   2.0  7.2e-01\n",
      "45   0.6  0.8     122.7  246.8  0.0e+00      0.2    156.6  3.6e-01      0.6    1.2  3.6e-01   2.2  7.6e-01\n",
      "46   0.6  0.8     128.2  234.6  1.3e-01      0.6    148.6  4.3e-01      1.1    1.3  3.5e-01   2.5  5.2e-01\n",
      "47   1.0  1.2     119.0  248.2  0.0e+00      0.6    149.6  2.2e-01      0.2    1.8  2.2e-01   2.0  5.6e-01\n",
      "48   0.9  0.8     123.9  250.1  3.0e-01      0.4    165.7  1.7e-01      0.3    1.4  6.1e-01   2.5  5.2e-01\n",
      "49   0.6  1.3     125.5  221.5  0.0e+00      0.8    149.9  0.0e+00      0.8    1.6  1.4e+00   2.2  5.3e-01\n",
      "50   0.6  1.0     130.4  227.0  0.0e+00      0.6    151.3  1.4e-01      1.0    1.4  1.4e-01   2.4  5.7e-01\n",
      "51   0.7  1.4     123.5  257.9  7.7e-02      0.5    149.1  6.2e-01      1.2    1.7  4.9e-01   2.4  7.4e-01\n",
      "52   0.9  1.1     129.8  226.3  3.7e-01      0.8    167.3  1.6e-01      0.4    1.7  9.1e-01   2.1  6.5e-01\n",
      "53   0.7  0.7     132.5  234.2  3.8e-01      0.2    137.0  4.2e-01      1.0    1.2  6.5e-01   2.2  6.9e-01\n",
      "54   0.7  1.0     127.7  253.9  1.1e-01      0.4    146.1  3.4e-01      1.0    1.4  6.4e-01   2.5  6.0e-01\n",
      "55   0.5  0.3     142.8  282.3  0.0e+00      1.0    138.4  6.7e-01      2.0    1.1  4.0e-01   2.5  3.3e-01\n",
      "56   0.7  0.8     135.3  258.9  4.1e-01      0.2    145.1  5.6e-01      1.4    0.9  6.4e-01   2.3  4.4e-01\n",
      "57   0.8  0.5     136.3  241.9  1.2e-01      0.6    143.3  4.6e-01      0.7    1.4  7.5e-01   2.4  3.7e-01\n",
      "58   0.7  0.8     128.4  253.8  2.2e-01      0.4    147.2  2.4e-01      1.4    1.4  1.3e+00   2.4  3.5e-01\n",
      "59   0.9  1.3     148.6  238.3  2.2e-01      0.5    148.2  3.5e-01      1.1    1.3  5.4e-01   2.3  3.3e-01\n",
      "60   0.6  0.8     132.0  245.2  1.9e-01      0.5    149.1  4.6e-01      1.7    1.5  1.2e+00   2.6  2.7e-01\n",
      "61   0.7  0.6     137.7  243.8  9.7e-02      0.5    145.4  6.1e-01      1.7    1.4  7.7e-01   2.5  9.7e-02\n",
      "62   0.4  0.6     133.9  256.5  1.6e-01      0.5    133.3  1.6e-01      1.8    1.0  1.3e+00   2.5  3.5e-01\n",
      "63   0.5  0.6     133.2  263.1  2.2e-01      0.3    153.0  4.7e-01      1.8    1.3  1.6e+00   2.4  2.8e-01\n",
      "64   0.7  1.3     138.8  275.0  0.0e+00      0.6    133.2  5.0e-01      1.1    1.2  5.6e-01   2.3  5.6e-01\n",
      "65   0.5  1.1     138.8  276.2  2.6e-01      0.2    145.3  0.0e+00      1.1    1.6  1.1e+00   2.3  4.4e-01\n",
      "66   0.6  0.8     147.0  244.2  1.6e-01      0.4    140.1  4.4e-01      0.9    1.2  1.0e+00   1.9  5.6e-01\n",
      "67   0.7  0.6     129.1  280.9  9.7e-02      0.4    132.8  3.5e-01      1.1    1.2  1.3e+00   2.5  2.9e-01\n",
      "68   0.8  1.5     140.5  238.8  5.0e-01      0.5    139.2  2.5e-01      1.9    1.2  7.5e-01   2.8  5.0e-01\n",
      "69   0.7  2.7     146.7  242.3  3.3e-01      0.3    142.7  0.0e+00      1.3    1.3  2.0e+00   2.3  6.7e-01\n",
      "70   1.0  0.6     146.3  251.9  0.0e+00      0.5    121.5  5.0e-01      2.0    0.9  1.1e+00   2.5  2.1e-01\n",
      "71   0.0  1.0     124.4  232.9  3.6e-01      0.6    136.9  0.0e+00      0.7    1.6  9.1e-01   2.0  1.0e+00\n",
      "74   0.0  1.0     120.0  269.0  0.0e+00      0.0    121.0  1.0e+00      0.2    2.0  1.0e+00   2.0  1.0e+00\n",
      "76   0.0  2.0     140.0  197.0  0.0e+00      2.0    116.0  0.0e+00      1.1    1.0  0.0e+00   2.0  1.0e+00\n",
      "77   1.0  0.0     125.0  304.0  0.0e+00      0.0    162.0  1.0e+00      0.0    2.0  3.0e+00   2.0  0.0e+00\n"
     ]
    }
   ],
   "source": [
    "Age= raw_data.groupby('age').mean()\n",
    "set_option('display.width',150)\n",
    "print(f'\\n La Distribution par age \\n---------------------------------\\n{Age}')"
   ]
  },
  {
   "cell_type": "markdown",
   "id": "da5c04df",
   "metadata": {},
   "source": [
    "##  -Question 2\n",
    "\n",
    "Ici, on constate que la maladie est plus presente chez les femmes avec 226 femmes sur 312 soit 70% que chez les hommes avec 300 hommes sur 713 soit 40% ,ceci nous permet de dire que les femmes sont plus exposees a la maladie que les hommes."
   ]
  },
  {
   "cell_type": "markdown",
   "id": "c0dabe08",
   "metadata": {},
   "source": [
    "##  Distribution par cas Malade/Saint"
   ]
  },
  {
   "cell_type": "code",
   "execution_count": 13,
   "id": "e19559f7",
   "metadata": {},
   "outputs": [
    {
     "name": "stdout",
     "output_type": "stream",
     "text": [
      "\n",
      " Les Cas present \n",
      "---------------------------------\n",
      "target\n",
      "0    499\n",
      "1    526\n",
      "dtype: int64\n"
     ]
    }
   ],
   "source": [
    "raw_data=data.copy()\n",
    "cas= raw_data.groupby('target').size()\n",
    "print(f'\\n Les Cas present \\n---------------------------------\\n{cas}')\n"
   ]
  },
  {
   "cell_type": "code",
   "execution_count": null,
   "id": "6a2faa70",
   "metadata": {},
   "outputs": [],
   "source": []
  },
  {
   "cell_type": "code",
   "execution_count": 61,
   "id": "62267d18",
   "metadata": {},
   "outputs": [
    {
     "data": {
      "text/html": [
       "<div>\n",
       "<style scoped>\n",
       "    .dataframe tbody tr th:only-of-type {\n",
       "        vertical-align: middle;\n",
       "    }\n",
       "\n",
       "    .dataframe tbody tr th {\n",
       "        vertical-align: top;\n",
       "    }\n",
       "\n",
       "    .dataframe thead th {\n",
       "        text-align: right;\n",
       "    }\n",
       "</style>\n",
       "<table border=\"1\" class=\"dataframe\">\n",
       "  <thead>\n",
       "    <tr style=\"text-align: right;\">\n",
       "      <th></th>\n",
       "      <th>sexe_case_mean</th>\n",
       "    </tr>\n",
       "    <tr>\n",
       "      <th>sex</th>\n",
       "      <th></th>\n",
       "    </tr>\n",
       "  </thead>\n",
       "  <tbody>\n",
       "    <tr>\n",
       "      <th>0</th>\n",
       "      <td>0.7</td>\n",
       "    </tr>\n",
       "    <tr>\n",
       "      <th>1</th>\n",
       "      <td>0.4</td>\n",
       "    </tr>\n",
       "  </tbody>\n",
       "</table>\n",
       "</div>"
      ],
      "text/plain": [
       "     sexe_case_mean\n",
       "sex                \n",
       "0               0.7\n",
       "1               0.4"
      ]
     },
     "execution_count": 61,
     "metadata": {},
     "output_type": "execute_result"
    }
   ],
   "source": [
    "sexe_case= raw_data.groupby(\"sex\").agg(sexe_case_mean=(\"target\",\"mean\"))\n",
    "sexe_case"
   ]
  },
  {
   "cell_type": "markdown",
   "id": "e1d42cd2",
   "metadata": {},
   "source": [
    "## Distribution par Sexe"
   ]
  },
  {
   "cell_type": "code",
   "execution_count": 46,
   "id": "28a6085f",
   "metadata": {},
   "outputs": [
    {
     "data": {
      "text/plain": [
       "sex  target\n",
       "0    0          86\n",
       "     1         226\n",
       "1    0         413\n",
       "     1         300\n",
       "dtype: int64"
      ]
     },
     "execution_count": 46,
     "metadata": {},
     "output_type": "execute_result"
    }
   ],
   "source": [
    "sexe_cas= raw_data[[\"sex\",\"target\"]].groupby([\"sex\",\"target\"]).size()\n",
    "sexe_cas"
   ]
  },
  {
   "cell_type": "code",
   "execution_count": 49,
   "id": "2e1e2696",
   "metadata": {},
   "outputs": [
    {
     "data": {
      "text/html": [
       "<div>\n",
       "<style scoped>\n",
       "    .dataframe tbody tr th:only-of-type {\n",
       "        vertical-align: middle;\n",
       "    }\n",
       "\n",
       "    .dataframe tbody tr th {\n",
       "        vertical-align: top;\n",
       "    }\n",
       "\n",
       "    .dataframe thead th {\n",
       "        text-align: right;\n",
       "    }\n",
       "</style>\n",
       "<table border=\"1\" class=\"dataframe\">\n",
       "  <thead>\n",
       "    <tr style=\"text-align: right;\">\n",
       "      <th></th>\n",
       "      <th>age_moyen</th>\n",
       "    </tr>\n",
       "    <tr>\n",
       "      <th>sex</th>\n",
       "      <th></th>\n",
       "    </tr>\n",
       "  </thead>\n",
       "  <tbody>\n",
       "    <tr>\n",
       "      <th>0</th>\n",
       "      <td>55.8</td>\n",
       "    </tr>\n",
       "    <tr>\n",
       "      <th>1</th>\n",
       "      <td>53.8</td>\n",
       "    </tr>\n",
       "  </tbody>\n",
       "</table>\n",
       "</div>"
      ],
      "text/plain": [
       "     age_moyen\n",
       "sex           \n",
       "0         55.8\n",
       "1         53.8"
      ]
     },
     "execution_count": 49,
     "metadata": {},
     "output_type": "execute_result"
    }
   ],
   "source": [
    "sexe_age= raw_data.groupby(\"sex\").agg(age_moyen=(\"age\",\"mean\"))\n",
    "sexe_age"
   ]
  },
  {
   "cell_type": "code",
   "execution_count": 50,
   "id": "73a4d88c",
   "metadata": {},
   "outputs": [
    {
     "data": {
      "text/html": [
       "<div>\n",
       "<style scoped>\n",
       "    .dataframe tbody tr th:only-of-type {\n",
       "        vertical-align: middle;\n",
       "    }\n",
       "\n",
       "    .dataframe tbody tr th {\n",
       "        vertical-align: top;\n",
       "    }\n",
       "\n",
       "    .dataframe thead th {\n",
       "        text-align: right;\n",
       "    }\n",
       "</style>\n",
       "<table border=\"1\" class=\"dataframe\">\n",
       "  <thead>\n",
       "    <tr style=\"text-align: right;\">\n",
       "      <th></th>\n",
       "      <th>age_min</th>\n",
       "    </tr>\n",
       "    <tr>\n",
       "      <th>sex</th>\n",
       "      <th></th>\n",
       "    </tr>\n",
       "  </thead>\n",
       "  <tbody>\n",
       "    <tr>\n",
       "      <th>0</th>\n",
       "      <td>34</td>\n",
       "    </tr>\n",
       "    <tr>\n",
       "      <th>1</th>\n",
       "      <td>29</td>\n",
       "    </tr>\n",
       "  </tbody>\n",
       "</table>\n",
       "</div>"
      ],
      "text/plain": [
       "     age_min\n",
       "sex         \n",
       "0         34\n",
       "1         29"
      ]
     },
     "execution_count": 50,
     "metadata": {},
     "output_type": "execute_result"
    }
   ],
   "source": [
    "sexe_age= raw_data.groupby(\"sex\").agg(age_min=(\"age\",\"min\"))\n",
    "sexe_age"
   ]
  },
  {
   "cell_type": "code",
   "execution_count": 51,
   "id": "500f3fa7",
   "metadata": {},
   "outputs": [
    {
     "data": {
      "text/html": [
       "<div>\n",
       "<style scoped>\n",
       "    .dataframe tbody tr th:only-of-type {\n",
       "        vertical-align: middle;\n",
       "    }\n",
       "\n",
       "    .dataframe tbody tr th {\n",
       "        vertical-align: top;\n",
       "    }\n",
       "\n",
       "    .dataframe thead th {\n",
       "        text-align: right;\n",
       "    }\n",
       "</style>\n",
       "<table border=\"1\" class=\"dataframe\">\n",
       "  <thead>\n",
       "    <tr style=\"text-align: right;\">\n",
       "      <th></th>\n",
       "      <th>age_max</th>\n",
       "    </tr>\n",
       "    <tr>\n",
       "      <th>sex</th>\n",
       "      <th></th>\n",
       "    </tr>\n",
       "  </thead>\n",
       "  <tbody>\n",
       "    <tr>\n",
       "      <th>0</th>\n",
       "      <td>76</td>\n",
       "    </tr>\n",
       "    <tr>\n",
       "      <th>1</th>\n",
       "      <td>77</td>\n",
       "    </tr>\n",
       "  </tbody>\n",
       "</table>\n",
       "</div>"
      ],
      "text/plain": [
       "     age_max\n",
       "sex         \n",
       "0         76\n",
       "1         77"
      ]
     },
     "execution_count": 51,
     "metadata": {},
     "output_type": "execute_result"
    }
   ],
   "source": [
    "sexe_age= raw_data.groupby(\"sex\").agg(age_max=(\"age\",\"max\"))\n",
    "sexe_age"
   ]
  },
  {
   "cell_type": "markdown",
   "id": "21b6e879",
   "metadata": {},
   "source": [
    "## -Question 3\n",
    "\n",
    "\n",
    "\n",
    "Apres analyse on constate que  pour la moyenne des cas malades il y'a la presence de douleurs  thoraciques tandis que  les cas non-malades n'ont presque pas de douleur.\n",
    "\n",
    "\n"
   ]
  },
  {
   "cell_type": "code",
   "execution_count": null,
   "id": "9cc30496",
   "metadata": {},
   "outputs": [],
   "source": []
  },
  {
   "cell_type": "markdown",
   "id": "4e8bba4c",
   "metadata": {},
   "source": [
    "## Types de  douleurs"
   ]
  },
  {
   "cell_type": "code",
   "execution_count": 74,
   "id": "3c8f81aa",
   "metadata": {},
   "outputs": [
    {
     "name": "stdout",
     "output_type": "stream",
     "text": [
      "Les Cp 0       0\n",
      "1       0\n",
      "2       0\n",
      "3       0\n",
      "4       0\n",
      "       ..\n",
      "1020    1\n",
      "1021    0\n",
      "1022    0\n",
      "1023    0\n",
      "1024    0\n",
      "Name: cp, Length: 1025, dtype: int64\n"
     ]
    }
   ],
   "source": [
    "raw_data.groupby([\"target\",\"cp\"],).agg(\n",
    "   Cp_moyenne=(\"cp\",\"mean\"),\n",
    "   \n",
    ")\n",
    "print(f'Les Cp {data.cp}')"
   ]
  },
  {
   "cell_type": "code",
   "execution_count": 84,
   "id": "195a47bb",
   "metadata": {},
   "outputs": [
    {
     "name": "stdout",
     "output_type": "stream",
     "text": [
      "Les Differents cas \n",
      "--------------------------\n"
     ]
    },
    {
     "data": {
      "image/png": "[encoded data removed]",
      "text/plain": [
       "<Figure size 900x600 with 1 Axes>"
      ]
     },
     "metadata": {},
     "output_type": "display_data"
    }
   ],
   "source": [
    "print(f'Les Differents cas \\n--------------------------')\n",
    "df1= raw_data.groupby('target').median()\n",
    "df1=df1.reset_index().plot(x='target',y=['sex','cp','trestbps','chol','thalach']\n",
    "  \n",
    "                        ,kind='bar',figsize=(9,6))\n",
    "plt.title(\"Les Differents cas\")\n",
    "plt.xlabel(\"Specificites\")\n",
    "plt.ylabel(\"Maladie\")\n",
    "plt.show()\n"
   ]
  },
  {
   "cell_type": "markdown",
   "id": "c57067c6",
   "metadata": {},
   "source": [
    "##  -Question 4\n",
    "\n",
    "--Cas malade\n",
    "La pression arterielle moyenne est: 131,5\n",
    "Le Cholesterole moyen est : 246,0\n",
    "frequence cardiaque est : 138,5\n",
    "--Cas non-malade\n",
    "La pression arterielle moyenne est: 146,5\n",
    "Le Cholesterole moyen est : 276,7\n",
    "frequence cardiaque est : 142,3\n"
   ]
  },
  {
   "cell_type": "code",
   "execution_count": 86,
   "id": "ae350f26",
   "metadata": {},
   "outputs": [
    {
     "data": {
      "text/html": [
       "<div>\n",
       "<style scoped>\n",
       "    .dataframe tbody tr th:only-of-type {\n",
       "        vertical-align: middle;\n",
       "    }\n",
       "\n",
       "    .dataframe tbody tr th {\n",
       "        vertical-align: top;\n",
       "    }\n",
       "\n",
       "    .dataframe thead th {\n",
       "        text-align: right;\n",
       "    }\n",
       "</style>\n",
       "<table border=\"1\" class=\"dataframe\">\n",
       "  <thead>\n",
       "    <tr style=\"text-align: right;\">\n",
       "      <th></th>\n",
       "      <th>target</th>\n",
       "      <th>sex</th>\n",
       "      <th>cp_moyenne</th>\n",
       "      <th>trestbps_moyenne</th>\n",
       "      <th>chol_moyenne</th>\n",
       "      <th>thalach_moyenne</th>\n",
       "    </tr>\n",
       "  </thead>\n",
       "  <tbody>\n",
       "    <tr>\n",
       "      <th>0</th>\n",
       "      <td>0</td>\n",
       "      <td>0</td>\n",
       "      <td>0.2</td>\n",
       "      <td>146.5</td>\n",
       "      <td>276.7</td>\n",
       "      <td>142.3</td>\n",
       "    </tr>\n",
       "    <tr>\n",
       "      <th>1</th>\n",
       "      <td>0</td>\n",
       "      <td>1</td>\n",
       "      <td>0.5</td>\n",
       "      <td>131.5</td>\n",
       "      <td>246.0</td>\n",
       "      <td>138.5</td>\n",
       "    </tr>\n",
       "    <tr>\n",
       "      <th>2</th>\n",
       "      <td>1</td>\n",
       "      <td>0</td>\n",
       "      <td>1.3</td>\n",
       "      <td>128.8</td>\n",
       "      <td>255.6</td>\n",
       "      <td>154.1</td>\n",
       "    </tr>\n",
       "    <tr>\n",
       "      <th>3</th>\n",
       "      <td>1</td>\n",
       "      <td>1</td>\n",
       "      <td>1.4</td>\n",
       "      <td>129.6</td>\n",
       "      <td>229.9</td>\n",
       "      <td>162.0</td>\n",
       "    </tr>\n",
       "  </tbody>\n",
       "</table>\n",
       "</div>"
      ],
      "text/plain": [
       "   target  sex  cp_moyenne  trestbps_moyenne  chol_moyenne  thalach_moyenne\n",
       "0       0    0         0.2             146.5         276.7            142.3\n",
       "1       0    1         0.5             131.5         246.0            138.5\n",
       "2       1    0         1.3             128.8         255.6            154.1\n",
       "3       1    1         1.4             129.6         229.9            162.0"
      ]
     },
     "execution_count": 86,
     "metadata": {},
     "output_type": "execute_result"
    }
   ],
   "source": [
    "raw_data.groupby([\"target\",\"sex\"], as_index=False).agg(\n",
    "   cp_moyenne=(\"cp\",\"mean\"),\n",
    "  trestbps_moyenne=(\"trestbps\",\"mean\"),\n",
    " chol_moyenne=(\"chol\",\"mean\"),\n",
    " thalach_moyenne=(\"thalach\",\"mean\")\n",
    ")"
   ]
  },
  {
   "cell_type": "code",
   "execution_count": null,
   "id": "ea796446",
   "metadata": {},
   "outputs": [],
   "source": []
  }
 ],
 "metadata": {
  "kernelspec": {
   "display_name": "Python 3 (ipykernel)",
   "language": "python",
   "name": "python3"
  },
  "language_info": {
   "codemirror_mode": {
    "name": "ipython",
    "version": 3
   },
   "file_extension": ".py",
   "mimetype": "text/x-python",
   "name": "python",
   "nbconvert_exporter": "python",
   "pygments_lexer": "ipython3",
   "version": "3.11.5"
  }
 },
 "nbformat": 4,
 "nbformat_minor": 5
}
